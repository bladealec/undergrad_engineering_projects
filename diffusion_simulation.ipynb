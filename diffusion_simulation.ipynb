{
 "cells": [
  {
   "cell_type": "code",
   "execution_count": 1,
   "id": "b71b50fc",
   "metadata": {},
   "outputs": [],
   "source": [
    "import numpy as np\n",
    "import matplotlib.pyplot as plt\n",
    "from ipywidgets import interact, FloatSlider, IntSlider"
   ]
  },
  {
   "cell_type": "code",
   "execution_count": 2,
   "id": "7d05ffc4",
   "metadata": {},
   "outputs": [],
   "source": [
    "def fick_second_law(C0, D, L, dx, dt, total_time):\n",
    "    \"\"\"\n",
    "    Simulates diffusion using Fick's second law.\n",
    "\n",
    "    Parameters:\n",
    "    C0 (array): Initial concentration profile\n",
    "    D (float): Diffusion coefficient\n",
    "    L (float): Length of the domain\n",
    "    dx (float): Spatial step size\n",
    "    dt (float): Time step size\n",
    "    total_time (float): Total simulation time\n",
    "\n",
    "    Returns:\n",
    "    C (2D array): Concentration profile over time\n",
    "    \"\"\"\n",
    "    nx = int(L / dx)\n",
    "    nt = int(total_time / dt)\n",
    "    C = np.zeros((nt, nx))\n",
    "    C[0, :] = C0\n",
    "\n",
    "    for t in range(1, nt):\n",
    "        for x in range(1, nx - 1):\n",
    "            C[t, x] = C[t - 1, x] + D * dt / dx**2 * (C[t - 1, x + 1] - 2 * C[t - 1, x] + C[t - 1, x - 1])\n",
    "        # Boundary conditions (assuming zero flux at boundaries)\n",
    "        C[t, 0] = C[t, 1]\n",
    "        C[t, -1] = C[t, -2]\n",
    "\n",
    "    return C"
   ]
  },
  {
   "cell_type": "code",
   "execution_count": 3,
   "id": "eb26380b",
   "metadata": {},
   "outputs": [],
   "source": [
    "def initial_concentration_profile(L, dx):\n",
    "    \"\"\"\n",
    "    Defines the initial concentration profile.\n",
    "\n",
    "    Parameters:\n",
    "    L (float): Length of the domain\n",
    "    dx (float): Spatial step size\n",
    "\n",
    "    Returns:\n",
    "    C0 (array): Initial concentration profile\n",
    "    \"\"\"\n",
    "    nx = int(L / dx)\n",
    "    C0 = np.zeros(nx)\n",
    "    mid = nx // 2\n",
    "    C0[mid - 10:mid + 10] = 1.0  # Initial concentration pulse in the center\n",
    "    return C0"
   ]
  },
  {
   "cell_type": "code",
   "execution_count": 4,
   "id": "37df9180",
   "metadata": {},
   "outputs": [],
   "source": [
    "def plot_diffusion(D=1e-4, L=1.0, dx=0.01, dt=0.001, total_time=0.1):\n",
    "    \"\"\"\n",
    "    Plots the diffusion simulation results.\n",
    "\n",
    "    Parameters:\n",
    "    D (float): Diffusion coefficient\n",
    "    L (float): Length of the domain\n",
    "    dx (float): Spatial step size\n",
    "    dt (float): Time step size\n",
    "    total_time (float): Total simulation time\n",
    "    \"\"\"\n",
    "    C0 = initial_concentration_profile(L, dx)\n",
    "    C = fick_second_law(C0, D, L, dx, dt, total_time)\n",
    "\n",
    "    time_steps = np.linspace(0, total_time, int(total_time / dt))\n",
    "    x = np.linspace(0, L, int(L / dx))\n",
    "\n",
    "    plt.figure(figsize=(10, 6))\n",
    "    for i in range(0, len(time_steps), max(1, len(time_steps) // 10)):\n",
    "        plt.plot(x, C[i, :], label=f't={time_steps[i]:.3f}s')\n",
    "\n",
    "    plt.xlabel('Position (m)')\n",
    "    plt.ylabel('Concentration')\n",
    "    plt.title('Diffusion Simulation using Fick\\'s Second Law')\n",
    "    plt.legend()\n",
    "    plt.grid(True)\n",
    "    plt.show()"
   ]
  },
  {
   "cell_type": "code",
   "execution_count": 5,
   "id": "6518b643",
   "metadata": {},
   "outputs": [
    {
     "data": {
      "application/vnd.jupyter.widget-view+json": {
       "model_id": "a887183d39e649b086d2b39d605a444d",
       "version_major": 2,
       "version_minor": 0
      },
      "text/plain": [
       "interactive(children=(FloatSlider(value=0.0001, description='D (m^2/s)', max=0.01, min=1e-06, step=1e-06), Flo…"
      ]
     },
     "metadata": {},
     "output_type": "display_data"
    },
    {
     "data": {
      "text/plain": [
       "<function __main__.plot_diffusion(D=0.0001, L=1.0, dx=0.01, dt=0.001, total_time=0.1)>"
      ]
     },
     "execution_count": 5,
     "metadata": {},
     "output_type": "execute_result"
    }
   ],
   "source": [
    "interact(plot_diffusion, \n",
    "         D=FloatSlider(value=1e-4, min=1e-6, max=1e-2, step=1e-6, description='D (m^2/s)'),\n",
    "         L=FloatSlider(value=1.0, min=0.1, max=10.0, step=0.1, description='L (m)'),\n",
    "         dx=FloatSlider(value=0.01, min=0.001, max=0.1, step=0.001, description='dx (m)'),\n",
    "         dt=FloatSlider(value=0.001, min=1e-6, max=0.01, step=1e-6, description='dt (s)'),\n",
    "         total_time=FloatSlider(value=0.1, min=0.01, max=1.0, step=0.01, description='Total Time (s)'))\n"
   ]
  },
  {
   "cell_type": "code",
   "execution_count": null,
   "id": "50f2cf8c",
   "metadata": {},
   "outputs": [],
   "source": []
  }
 ],
 "metadata": {
  "kernelspec": {
   "display_name": "Python 3 (ipykernel)",
   "language": "python",
   "name": "python3"
  },
  "language_info": {
   "codemirror_mode": {
    "name": "ipython",
    "version": 3
   },
   "file_extension": ".py",
   "mimetype": "text/x-python",
   "name": "python",
   "nbconvert_exporter": "python",
   "pygments_lexer": "ipython3",
   "version": "3.10.9"
  }
 },
 "nbformat": 4,
 "nbformat_minor": 5
}
