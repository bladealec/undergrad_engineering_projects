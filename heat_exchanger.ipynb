{
 "cells": [
  {
   "cell_type": "code",
   "execution_count": 1,
   "id": "a8337301",
   "metadata": {},
   "outputs": [],
   "source": [
    "import math\n",
    "import matplotlib.pyplot as plt"
   ]
  },
  {
   "cell_type": "code",
   "execution_count": 2,
   "id": "a1e96a08",
   "metadata": {},
   "outputs": [],
   "source": [
    "Cp_water = 4181  # Specific heat capacity of water in J/(kg*K)"
   ]
  },
  {
   "cell_type": "code",
   "execution_count": 3,
   "id": "dcfb2782",
   "metadata": {},
   "outputs": [],
   "source": [
    "def get_input_or_sample():\n",
    "    choice = input(\"Would you like to use sample values? (y/n): \").strip().lower()\n",
    "    if choice == 'y':\n",
    "        return {\n",
    "            \"mass_flow_rate_shell\": 1.5,  # kg/s\n",
    "            \"mass_flow_rate_tube\": 1.0,  # kg/s\n",
    "            \"delta_T_shell\": 20,  # K\n",
    "            \"delta_T_tube\": 15,  # K\n",
    "            \"U_shell\": 1000,  # W/(m^2*K)\n",
    "            \"U_tube\": 800,  # W/(m^2*K)\n",
    "            \"shell_diameter\": 0.5,  # m\n",
    "            \"tube_length\": 5.0,  # m\n",
    "            \"tube_diameter\": 0.025,  # m\n",
    "            \"number_of_tubes\": 50,\n",
    "            \"plate_width\": 0.5,  # m\n",
    "            \"plate_length\": 1.0,  # m\n",
    "            \"plate_spacing\": 0.005,  # m\n",
    "            \"number_of_plates\": 30\n",
    "        }\n",
    "    else:\n",
    "        return {\n",
    "            \"mass_flow_rate_shell\": float(input(\"Enter mass flow rate for shell side (kg/s): \")),\n",
    "            \"mass_flow_rate_tube\": float(input(\"Enter mass flow rate for tube side (kg/s): \")),\n",
    "            \"delta_T_shell\": float(input(\"Enter temperature difference for shell side (K): \")),\n",
    "            \"delta_T_tube\": float(input(\"Enter temperature difference for tube side (K): \")),\n",
    "            \"U_shell\": float(input(\"Enter overall heat transfer coefficient for shell side (W/(m^2*K)): \")),\n",
    "            \"U_tube\": float(input(\"Enter overall heat transfer coefficient for tube side (W/(m^2*K)): \")),\n",
    "            \"shell_diameter\": float(input(\"Enter shell diameter (m): \")),\n",
    "            \"tube_length\": float(input(\"Enter tube length (m): \")),\n",
    "            \"tube_diameter\": float(input(\"Enter tube diameter (m): \")),\n",
    "            \"number_of_tubes\": int(input(\"Enter number of tubes: \")),\n",
    "            \"plate_width\": float(input(\"Enter plate width (m): \")),\n",
    "            \"plate_length\": float(input(\"Enter plate length (m): \")),\n",
    "            \"plate_spacing\": float(input(\"Enter plate spacing (m): \")),\n",
    "            \"number_of_plates\": int(input(\"Enter number of plates: \"))\n",
    "        }"
   ]
  },
  {
   "cell_type": "code",
   "execution_count": 4,
   "id": "0f533543",
   "metadata": {},
   "outputs": [],
   "source": [
    "def heat_transfer_rate(mass_flow_rate, Cp, delta_T):\n",
    "    return mass_flow_rate * Cp * delta_T"
   ]
  },
  {
   "cell_type": "code",
   "execution_count": 5,
   "id": "33ce1006",
   "metadata": {},
   "outputs": [],
   "source": [
    "# Log Mean Temperature Difference (LMTD)\n",
    "def lmtd(delta_T1, delta_T2):\n",
    "    return (delta_T1 - delta_T2) / math.log(delta_T1 / delta_T2)"
   ]
  },
  {
   "cell_type": "code",
   "execution_count": 6,
   "id": "9739fc66",
   "metadata": {},
   "outputs": [],
   "source": [
    "def overall_heat_transfer_coefficient(U_shell, U_tube):\n",
    "    return 1 / (1/U_shell + 1/U_tube)"
   ]
  },
  {
   "cell_type": "code",
   "execution_count": 7,
   "id": "a7fe5937",
   "metadata": {},
   "outputs": [],
   "source": [
    "def heat_transfer_area(Q, U, LMTD):\n",
    "    return Q / (U * LMTD)"
   ]
  },
  {
   "cell_type": "code",
   "execution_count": 8,
   "id": "0de5956d",
   "metadata": {},
   "outputs": [],
   "source": [
    "def pressure_drop_shell_and_tube(flow_rate, length, diameter, density, viscosity):\n",
    "    # Darcy-Weisbach equation (simplified for turbulent flow)\n",
    "    f = 0.079 / (flow_rate * diameter / (viscosity / density))**0.25  # Friction factor\n",
    "    delta_P = f * (length / diameter) * (density * flow_rate**2 / 2)\n",
    "    return delta_P"
   ]
  },
  {
   "cell_type": "code",
   "execution_count": 9,
   "id": "a5994fec",
   "metadata": {},
   "outputs": [],
   "source": [
    "def pressure_drop_plate(flow_rate, length, spacing, density, viscosity):\n",
    "    # Similar simplified calculation for pressure drop across plates\n",
    "    Re = flow_rate * spacing / viscosity\n",
    "    f = 0.079 / Re**0.25  # Friction factor\n",
    "    delta_P = f * (length / spacing) * (density * flow_rate**2 / 2)\n",
    "    return delta_P"
   ]
  },
  {
   "cell_type": "code",
   "execution_count": 10,
   "id": "9694ab58",
   "metadata": {},
   "outputs": [],
   "source": [
    "def plot_temperature_profile(T_shell_in, T_shell_out, T_tube_in, T_tube_out, length):\n",
    "    x = [0, length]\n",
    "    y_shell = [T_shell_in, T_shell_out]\n",
    "    y_tube = [T_tube_in, T_tube_out]\n",
    "    \n",
    "    plt.plot(x, y_shell, label=\"Shell-side Temperature\")\n",
    "    plt.plot(x, y_tube, label=\"Tube-side Temperature\")\n",
    "    plt.xlabel('Length of Heat Exchanger (m)')\n",
    "    plt.ylabel('Temperature (K)')\n",
    "    plt.title('Temperature Profile along Heat Exchanger')\n",
    "    plt.legend()\n",
    "    plt.show()"
   ]
  },
  {
   "cell_type": "code",
   "execution_count": 13,
   "id": "e4efa618",
   "metadata": {},
   "outputs": [
    {
     "name": "stdout",
     "output_type": "stream",
     "text": [
      "Would you like to use sample values? (y/n): y\n",
      "\n",
      "--- Input Values ---\n",
      "Mass Flow Rate Shell: 1.5\n",
      "Mass Flow Rate Tube: 1.0\n",
      "Delta T Shell: 20\n",
      "Delta T Tube: 15\n",
      "U Shell: 1000\n",
      "U Tube: 800\n",
      "Shell Diameter: 0.5\n",
      "Tube Length: 5.0\n",
      "Tube Diameter: 0.025\n",
      "Number Of Tubes: 50\n",
      "Plate Width: 0.5\n",
      "Plate Length: 1.0\n",
      "Plate Spacing: 0.005\n",
      "Number Of Plates: 30\n",
      "\n",
      "--- Calculated Results ---\n",
      "Required Heat Transfer Area: 16.24 m^2\n",
      "Pressure Drop for Shell-and-Tube: 1275.41 Pa\n",
      "Pressure Drop for Plate Heat Exchanger: 5272.48 Pa\n"
     ]
    },
    {
     "data": {
      "image/png": "[encoded data removed]",
      "text/plain": [
       "<Figure size 432x288 with 1 Axes>"
      ]
     },
     "metadata": {
      "needs_background": "light"
     },
     "output_type": "display_data"
    }
   ],
   "source": [
    "# Main Function\n",
    "def main():\n",
    "    inputs = get_input_or_sample()\n",
    "    \n",
    "    Q_shell = heat_transfer_rate(inputs[\"mass_flow_rate_shell\"], Cp_water, inputs[\"delta_T_shell\"])\n",
    "    Q_tube = heat_transfer_rate(inputs[\"mass_flow_rate_tube\"], Cp_water, inputs[\"delta_T_tube\"])\n",
    "    \n",
    "    LMTD_value = lmtd(inputs[\"delta_T_shell\"], inputs[\"delta_T_tube\"])\n",
    "    \n",
    "    U = overall_heat_transfer_coefficient(inputs[\"U_shell\"], inputs[\"U_tube\"])\n",
    "    \n",
    "    A = heat_transfer_area(Q_shell, U, LMTD_value)\n",
    "    \n",
    "    delta_P_shell = pressure_drop_shell_and_tube(\n",
    "        inputs[\"mass_flow_rate_shell\"], \n",
    "        inputs[\"tube_length\"], \n",
    "        inputs[\"tube_diameter\"], \n",
    "        density=998,  # Density of water (kg/m^3)\n",
    "        viscosity=0.001  # Viscosity of water (Pa*s)\n",
    "    )\n",
    "    \n",
    "    delta_P_plate = pressure_drop_plate(\n",
    "        inputs[\"mass_flow_rate_tube\"], \n",
    "        inputs[\"plate_length\"], \n",
    "        inputs[\"plate_spacing\"], \n",
    "        density=998, \n",
    "        viscosity=0.001\n",
    "    )\n",
    "    \n",
    "    print(\"\\n--- Input Values ---\")\n",
    "    for key, value in inputs.items():\n",
    "        print(f\"{key.replace('_', ' ').title()}: {value}\")\n",
    "    \n",
    "    print(\"\\n--- Calculated Results ---\")\n",
    "    print(f\"Required Heat Transfer Area: {A:.2f} m^2\")\n",
    "    print(f\"Pressure Drop for Shell-and-Tube: {delta_P_shell:.2f} Pa\")\n",
    "    print(f\"Pressure Drop for Plate Heat Exchanger: {delta_P_plate:.2f} Pa\")\n",
    "    \n",
    "    plot_temperature_profile(\n",
    "        T_shell_in=inputs[\"delta_T_shell\"], \n",
    "        T_shell_out=inputs[\"delta_T_tube\"],\n",
    "        T_tube_in=inputs[\"delta_T_tube\"], \n",
    "        T_tube_out=inputs[\"delta_T_shell\"], \n",
    "        length=inputs[\"tube_length\"]\n",
    "    )\n",
    "\n",
    "if __name__ == \"__main__\":\n",
    "    main()"
   ]
  },
  {
   "cell_type": "code",
   "execution_count": null,
   "id": "0b093d74",
   "metadata": {},
   "outputs": [],
   "source": []
  }
 ],
 "metadata": {
  "kernelspec": {
   "display_name": "Python 3 (ipykernel)",
   "language": "python",
   "name": "python3"
  },
  "language_info": {
   "codemirror_mode": {
    "name": "ipython",
    "version": 3
   },
   "file_extension": ".py",
   "mimetype": "text/x-python",
   "name": "python",
   "nbconvert_exporter": "python",
   "pygments_lexer": "ipython3",
   "version": "3.10.9"
  }
 },
 "nbformat": 4,
 "nbformat_minor": 5
}
