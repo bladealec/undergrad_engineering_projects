{
 "cells": [
  {
   "cell_type": "code",
   "execution_count": 1,
   "id": "ceacc54b",
   "metadata": {},
   "outputs": [],
   "source": [
    "import math"
   ]
  },
  {
   "cell_type": "code",
   "execution_count": 2,
   "id": "ddb59ecb",
   "metadata": {},
   "outputs": [],
   "source": [
    "def hydraulic_radius_and_diameter_rectangular(width, height):\n",
    "    # Hydraulic radius for rectangular duct\n",
    "    hydraulic_radius = (width * height) / (2 * (width + height))\n",
    "    \n",
    "    # Hydraulic diameter for rectangular duct\n",
    "    hydraulic_diameter = 2 * hydraulic_radius\n",
    "    \n",
    "    return hydraulic_radius, hydraulic_diameter"
   ]
  },
  {
   "cell_type": "code",
   "execution_count": 3,
   "id": "f5a6690c",
   "metadata": {},
   "outputs": [],
   "source": [
    "def hydraulic_radius_and_diameter_pipe_within_pipe(inner_diameter, outer_diameter):\n",
    "    # Cross-sectional area for annular region\n",
    "    area = math.pi * (outer_diameter**2 - inner_diameter**2) / 4\n",
    "    \n",
    "    # Wetted perimeter for annular region\n",
    "    wetted_perimeter = math.pi * (outer_diameter + inner_diameter)\n",
    "    \n",
    "    # Hydraulic radius for pipe within pipe\n",
    "    hydraulic_radius = area / wetted_perimeter\n",
    "    \n",
    "    # Hydraulic diameter for pipe within pipe\n",
    "    hydraulic_diameter = 2 * hydraulic_radius\n",
    "    \n",
    "    return hydraulic_radius, hydraulic_diameter"
   ]
  },
  {
   "cell_type": "code",
   "execution_count": 4,
   "id": "9400c8cb",
   "metadata": {},
   "outputs": [
    {
     "name": "stdout",
     "output_type": "stream",
     "text": [
      "Rectangular Duct - Hydraulic Radius: 0.0937 m, Hydraulic Diameter: 0.1875 m\n"
     ]
    }
   ],
   "source": [
    "# Rectangular duct\n",
    "width = 0.5  # meters\n",
    "height = 0.3  # meters\n",
    "rect_hydraulic_radius, rect_hydraulic_diameter = hydraulic_radius_and_diameter_rectangular(width, height)\n",
    "print(f\"Rectangular Duct - Hydraulic Radius: {rect_hydraulic_radius:.4f} m, Hydraulic Diameter: {rect_hydraulic_diameter:.4f} m\")"
   ]
  },
  {
   "cell_type": "code",
   "execution_count": 5,
   "id": "5e777db0",
   "metadata": {},
   "outputs": [
    {
     "name": "stdout",
     "output_type": "stream",
     "text": [
      "Pipe within a Pipe - Hydraulic Radius: 0.0500 m, Hydraulic Diameter: 0.1000 m\n"
     ]
    }
   ],
   "source": [
    "# Pipe within a pipe\n",
    "inner_diameter = 0.2  # meters\n",
    "outer_diameter = 0.4  # meters\n",
    "pipe_hydraulic_radius, pipe_hydraulic_diameter = hydraulic_radius_and_diameter_pipe_within_pipe(inner_diameter, outer_diameter)\n",
    "print(f\"Pipe within a Pipe - Hydraulic Radius: {pipe_hydraulic_radius:.4f} m, Hydraulic Diameter: {pipe_hydraulic_diameter:.4f} m\")"
   ]
  },
  {
   "cell_type": "code",
   "execution_count": null,
   "id": "4a744de5",
   "metadata": {},
   "outputs": [],
   "source": []
  }
 ],
 "metadata": {
  "kernelspec": {
   "display_name": "Python 3 (ipykernel)",
   "language": "python",
   "name": "python3"
  },
  "language_info": {
   "codemirror_mode": {
    "name": "ipython",
    "version": 3
   },
   "file_extension": ".py",
   "mimetype": "text/x-python",
   "name": "python",
   "nbconvert_exporter": "python",
   "pygments_lexer": "ipython3",
   "version": "3.10.9"
  }
 },
 "nbformat": 4,
 "nbformat_minor": 5
}
