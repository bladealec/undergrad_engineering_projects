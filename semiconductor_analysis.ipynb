{
 "cells": [
  {
   "cell_type": "code",
   "execution_count": 1,
   "id": "55000ecf",
   "metadata": {},
   "outputs": [],
   "source": [
    "import numpy as np\n",
    "import matplotlib.pyplot as plt\n",
    "from ipywidgets import interact, FloatLogSlider, FloatSlider, Dropdown"
   ]
  },
  {
   "cell_type": "code",
   "execution_count": 2,
   "id": "53282567",
   "metadata": {},
   "outputs": [],
   "source": [
    "q = 1.6e-19  # electron charge in Coulombs"
   ]
  },
  {
   "cell_type": "code",
   "execution_count": 3,
   "id": "be1c869e",
   "metadata": {},
   "outputs": [],
   "source": [
    "def calculate_properties(dopant_concentration, intrinsic_carrier_concentration, electron_mobility, hole_mobility, temperature, material_type):\n",
    "    \"\"\"\n",
    "    Calculates the majority and minority carrier concentrations and electrical resistivity of an extrinsic semiconductor.\n",
    "\n",
    "    Parameters:\n",
    "    dopant_concentration (float): Concentration of dopant atoms (in m^3)\n",
    "    intrinsic_carrier_concentration (float): Intrinsic carrier concentration (in m^3)\n",
    "    electron_mobility (float): Electron mobility (in m^2/V.s)\n",
    "    hole_mobility (float): Hole mobility (in m^2/V.s)\n",
    "    temperature (float): Temperature in Kelvin\n",
    "    material_type (str): Type of semiconductor ('n-type' or 'p-type')\n",
    "\n",
    "    Returns:\n",
    "    n_majority (float): Majority carrier concentration (in m^3)\n",
    "    n_minority (float): Minority carrier concentration (in m^3)\n",
    "    resistivity (float): Electrical resistivity (in ohm.m)\n",
    "    \"\"\"\n",
    "    if material_type == 'n-type':\n",
    "        n_majority = dopant_concentration\n",
    "        n_minority = intrinsic_carrier_concentration ** 2 / dopant_concentration\n",
    "        resistivity = 1 / (q * n_majority * electron_mobility)\n",
    "    elif material_type == 'p-type':\n",
    "        n_majority = dopant_concentration\n",
    "        n_minority = intrinsic_carrier_concentration ** 2 / dopant_concentration\n",
    "        resistivity = 1 / (q * n_majority * hole_mobility)\n",
    "    else:\n",
    "        raise ValueError(\"Invalid material type. Choose 'n-type' or 'p-type'.\")\n",
    "    \n",
    "    return n_majority, n_minority, resistivity"
   ]
  },
  {
   "cell_type": "code",
   "execution_count": 4,
   "id": "59a2254d",
   "metadata": {},
   "outputs": [],
   "source": [
    "def plot_properties(dopant_concentration, intrinsic_carrier_concentration, electron_mobility, hole_mobility, temperature, material_type):\n",
    "    \"\"\"\n",
    "    Plots the carrier concentrations and electrical resistivity of an extrinsic semiconductor.\n",
    "    \"\"\"\n",
    "    n_majority, n_minority, resistivity = calculate_properties(dopant_concentration, intrinsic_carrier_concentration, electron_mobility, hole_mobility, temperature, material_type)\n",
    "\n",
    "    fig, ax = plt.subplots(1, 2, figsize=(14, 5))\n",
    "\n",
    "    ax[0].bar(['Majority Carriers', 'Minority Carriers'], [n_majority, n_minority], color=['blue', 'red'])\n",
    "    ax[0].set_yscale('log')\n",
    "    ax[0].set_ylabel('Carrier Concentration (m^-3)')\n",
    "    ax[0].set_title('Carrier Concentrations')\n",
    "\n",
    "    ax[1].bar(['Resistivity'], [resistivity], color='green')\n",
    "    ax[1].set_yscale('log')\n",
    "    ax[1].set_ylabel('Resistivity (ohm.m)')\n",
    "    ax[1].set_title('Electrical Resistivity')\n",
    "\n",
    "    plt.suptitle(f'{material_type.capitalize()} Semiconductor Properties', fontsize=16)\n",
    "    plt.show()"
   ]
  },
  {
   "cell_type": "code",
   "execution_count": 5,
   "id": "5ee329b7",
   "metadata": {},
   "outputs": [
    {
     "data": {
      "application/vnd.jupyter.widget-view+json": {
       "model_id": "56f19aa152324c2bad2a1a3f46d7d418",
       "version_major": 2,
       "version_minor": 0
      },
      "text/plain": [
       "interactive(children=(FloatLogSlider(value=1e+24, description='Dopant Conc. (m^-3)', max=28.0, min=20.0), Floa…"
      ]
     },
     "metadata": {},
     "output_type": "display_data"
    },
    {
     "data": {
      "text/plain": [
       "<function __main__.plot_properties(dopant_concentration, intrinsic_carrier_concentration, electron_mobility, hole_mobility, temperature, material_type)>"
      ]
     },
     "execution_count": 5,
     "metadata": {},
     "output_type": "execute_result"
    }
   ],
   "source": [
    "interact(\n",
    "    plot_properties,\n",
    "    dopant_concentration=FloatLogSlider(value=1e24, base=10, min=20, max=28, step=0.1, description='Dopant Conc. (m^-3)'),\n",
    "    intrinsic_carrier_concentration=FloatLogSlider(value=1.5e16, base=10, min=14, max=20, step=0.1, description='Intrinsic Carrier Conc. (m^-3)'),\n",
    "    electron_mobility=FloatSlider(value=0.135, min=0.01, max=1.0, step=0.01, description='Electron Mobility (m^2/V.s)'),\n",
    "    hole_mobility=FloatSlider(value=0.048, min=0.01, max=1.0, step=0.01, description='Hole Mobility (m^2/V.s)'),\n",
    "    temperature=FloatSlider(value=300, min=200, max=400, step=1, description='Temperature (K)'),\n",
    "    material_type=Dropdown(options=['n-type', 'p-type'], value='n-type', description='Material Type')\n",
    ")"
   ]
  }
 ],
 "metadata": {
  "kernelspec": {
   "display_name": "Python 3 (ipykernel)",
   "language": "python",
   "name": "python3"
  },
  "language_info": {
   "codemirror_mode": {
    "name": "ipython",
    "version": 3
   },
   "file_extension": ".py",
   "mimetype": "text/x-python",
   "name": "python",
   "nbconvert_exporter": "python",
   "pygments_lexer": "ipython3",
   "version": "3.10.9"
  }
 },
 "nbformat": 4,
 "nbformat_minor": 5
}
